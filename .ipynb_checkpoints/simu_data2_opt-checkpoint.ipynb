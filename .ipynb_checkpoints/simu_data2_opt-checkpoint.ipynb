{
 "cells": [
  {
   "cell_type": "code",
   "execution_count": 3,
   "metadata": {},
   "outputs": [],
   "source": [
    "import scipy.io as sio\n",
    "import numpy as np\n",
    "import tensorflow as tf\n",
    "import keras\n",
    "from keras import backend as K\n",
    "from keras.models import Sequential\n",
    "from keras.layers import Dense, Dropout, Conv2D, Flatten\n",
    "from keras.optimizers import RMSprop\n",
    "from keras import regularizers\n",
    "import matplotlib.pyplot as plt\n",
    "#import seaborn as sns; sns.set()\n",
    "from mpl_toolkits.mplot3d import Axes3D\n",
    "import pandas as pd\n",
    "from keras import regularizers\n",
    "from numpy import linalg as LA\n",
    "from sklearn.model_selection import train_test_split\n",
    " #Initial the weight of the network\n",
    "from numpy.random import seed\n",
    "seed(1)\n",
    "from tensorflow import set_random_seed\n",
    "set_random_seed(2)\n"
   ]
  },
  {
   "cell_type": "code",
   "execution_count": 55,
   "metadata": {},
   "outputs": [],
   "source": [
    "#loading data\n",
    "# DDataFile = './3_20_data/qd_LOS_32_3GPPUMi_15k_SC5.mat'\n",
    "DDataFile = './data/Sim_data/impulses_16.mat'\n",
    "DData = sio.loadmat(DDataFile)\n",
    "#get the coeff data\n",
    "h_coeff_all = DData['h_coeff_real']\n",
    "location = DData['positions']\n",
    "#split the D_data and location_data and only need the first 2k\n",
    "N = 1600\n",
    "M = 16\n",
    "total, d = loc.shape\n",
    "h_coeff_real = np.array(h_coeff_all[:M,:N])\n",
    "h_coeff_img = np.array(h_coeff_all[M:,:N])\n",
    "h_coeff = h_coeff_real + 1j*h_coeff_img\n",
    "loc = np.transpose(location[:,:N])"
   ]
  },
  {
   "cell_type": "code",
   "execution_count": 56,
   "metadata": {},
   "outputs": [
    {
     "name": "stdout",
     "output_type": "stream",
     "text": [
      "10 (10,)\n",
      "[0.  0.2 0.4 0.6 0.8 1.  1.2 1.4 1.6 1.8]\n"
     ]
    }
   ],
   "source": [
    "a = np.array(range(0,20,2)) / 10.\n",
    "err_min = np.zeros(len(a))\n",
    "print(len(a), err_min.shape)\n",
    "print(a)\n"
   ]
  },
  {
   "cell_type": "code",
   "execution_count": 64,
   "metadata": {},
   "outputs": [
    {
     "name": "stdout",
     "output_type": "stream",
     "text": [
      "mean error 6.568212627091744\n",
      "mean error 6.5471025153703675\n",
      "mean error 6.528427597923518\n",
      "mean error 6.539843586413573\n",
      "mean error 6.559558073736514\n",
      "mean error 6.552284911586031\n",
      "mean error 6.553284433015278\n"
     ]
    },
    {
     "data": {
      "text/plain": [
       "<matplotlib.legend.Legend at 0x161a9d82a90>"
      ]
     },
     "execution_count": 64,
     "metadata": {},
     "output_type": "execute_result"
    },
    {
     "data": {
      "image/png": "[encoded data removed]",
      "text/plain": [
       "<Figure size 432x288 with 1 Axes>"
      ]
     },
     "metadata": {
      "needs_background": "light"
     },
     "output_type": "display_data"
    }
   ],
   "source": [
    "# a = np.array(range(0,20,2)) / 10. # a = 0.5 is the best\n",
    "a = 0.5\n",
    "parameter = [10,20,30,50,100,200,500]\n",
    "err_min = np.zeros(len(parameter))\n",
    "err_max = np.zeros(len(parameter))\n",
    "err_avg = np.zeros(len(parameter))\n",
    "err_var = np.zeros(len(parameter))\n",
    "loss = np.zeros(len(parameter))\n",
    "\n",
    "for i in range(len(parameter)):\n",
    "    seed(1)\n",
    "    set_random_seed(2)\n",
    "    D = np.asmatrix(np.fft.fft(np.eye(M)/np.sqrt(M)))\n",
    "    DH = D.H\n",
    "    F = np.zeros([N, M * M], dtype = \"complex_\")\n",
    "    for j in range(N):\n",
    "        h = np.asmatrix(h_coeff[:, j:j+1])\n",
    "        v = (M **(1/(2*a)) / (LA.norm(h, 2) **(1+(1/(2*a))))) * h # a = 0.5 is the best\n",
    "        KK = v * v.H\n",
    "        B = D * KK * DH\n",
    "        F[j] =B.flatten().A\n",
    "    F = np.asarray(F)\n",
    "    #Do normalization here for features !!! \n",
    "    # Using std to normalize\n",
    "    # F = F - np.mean(F, axis = 0)\n",
    "    F = F / np.std(F, axis = 0)\n",
    "    #***************************************************************************************************\n",
    "    # ft = np.real(F)\n",
    "    # ft = np.imag(F)\n",
    "    ft = np.absolute(F) # get the absolute of the F data rel and imaginary part seperately \n",
    "    # Split the data\n",
    "    impulses_train, impulses_test, location_train, location_test = train_test_split(ft, loc, test_size=0.2, random_state=42)\n",
    "    #***************************************************************************************************\n",
    "    #Build the model\n",
    "    model = keras.Sequential()\n",
    "\n",
    "    model.add(keras.layers.normalization.BatchNormalization())\n",
    "    model.add(Dense(11, activation = 'tanh')) #tanh is the best and 11 is the best, relu\n",
    "\n",
    "    # model.add(keras.layers.normalization.BatchNormalization())\n",
    "    # model.add(Dense(4, activation = 'tanh')) \n",
    "    model.add(Dense(d, activation = 'linear'))  # None is different from 'linear'      ### the output layer\n",
    "    #***************************************************************************************************\n",
    "\n",
    "    #Compilation\n",
    "    def huber_loss(y_true, y_pred):\n",
    "        return tf.losses.huber_loss(y_true,y_pred)\n",
    "\n",
    "    loss_func = huber_loss#\"mean_squared_error\"   #   categorical_crossentropy(bad)   mean_squared_error  huber_loss\n",
    "    opt_func = keras.optimizers.Adam(lr=0.001) #'Adam'  lr=0.001  #  RMSprop() sgd()  Adadelta()   Adam  nadam\n",
    "    callbacks = [keras.callbacks.EarlyStopping(monitor='val_loss', min_delta=0, patience=7, verbose=0, mode='auto', baseline=None)]\n",
    "\n",
    "    model.compile(loss = loss_func, \n",
    "                  optimizer = opt_func\n",
    "                 )\n",
    "    #***************************************************************************************************\n",
    "\n",
    "    #Train the model, iterating\n",
    "    history = model.fit(impulses_train, location_train,\n",
    "                        batch_size = parameter[i], # 30 it the best\n",
    "                        epochs = 100,\n",
    "                        verbose = 0,\n",
    "                        callbacks=callbacks,\n",
    "                        validation_split = 0.2 #0.2,\n",
    "                       )\n",
    "    #***************************************************************************************************\n",
    "    loc_prediction = model.predict(impulses_test)\n",
    "    loss[i] = model.evaluate(impulses_test, location_test,verbose=0)\n",
    "    #***************************************************************************************************\n",
    "    err = loc_prediction - location_test\n",
    "    x = err[:,:1]\n",
    "    y = err[:,1:]\n",
    "    err_dis = np.sqrt(np.square(x)+np.square(y))\n",
    "    err_min[i] = np.min(err_dis)\n",
    "    err_max[i] = np.max(err_dis)\n",
    "    err_avg[i] = np.mean(err_dis)\n",
    "    err_var[i] = np.var(err_dis)\n",
    "    print(\"mean error\", err_avg[i])\n",
    "    #***************************************************************************************************\n",
    "# print(\"mean error distance is \", err_avg)\n",
    "# print(\"max error distance is \", err_max)\n",
    "# print(\"min error distance is \", err_min)\n",
    "# print(\"The variance of the distance is \", err_var)\n",
    "\n",
    "plt.plot(err_avg, label=\"err_avg\")\n",
    "plt.plot(err_max, label=\"err_max\")\n",
    "plt.plot(err_min, label=\"err_min\")\n",
    "plt.plot(err_var, label=\"err_var\")\n",
    "plt.legend()"
   ]
  },
  {
   "cell_type": "code",
   "execution_count": 67,
   "metadata": {
    "scrolled": true
   },
   "outputs": [
    {
     "data": {
      "image/png": "[encoded data removed]",
      "text/plain": [
       "<Figure size 432x288 with 1 Axes>"
      ]
     },
     "metadata": {
      "needs_background": "light"
     },
     "output_type": "display_data"
    }
   ],
   "source": [
    "plt.plot(parameter,err_avg, label=\"err_avg\")\n",
    "# plt.plot(err_max, label=\"err_max\")\n",
    "# plt.plot(err_min, label=\"err_min\")\n",
    "# plt.plot(err_var, label=\"err_var\")\n",
    "plt.ylabel('avg_err')\n",
    "plt.xlabel('batch size')\n",
    "plt.title(\"batch size & error\")\n",
    "plt.legend()\n",
    "plt.savefig(\"a_change.png\")"
   ]
  },
  {
   "cell_type": "code",
   "execution_count": null,
   "metadata": {},
   "outputs": [],
   "source": []
  }
 ],
 "metadata": {
  "kernelspec": {
   "display_name": "tensorflow",
   "language": "python",
   "name": "tensorflow"
  },
  "language_info": {
   "codemirror_mode": {
    "name": "ipython",
    "version": 3
   },
   "file_extension": ".py",
   "mimetype": "text/x-python",
   "name": "python",
   "nbconvert_exporter": "python",
   "pygments_lexer": "ipython3",
   "version": "3.6.6"
  }
 },
 "nbformat": 4,
 "nbformat_minor": 2
}
