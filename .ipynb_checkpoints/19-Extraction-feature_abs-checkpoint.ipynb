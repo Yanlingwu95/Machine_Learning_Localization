{
 "cells": [
  {
   "cell_type": "code",
   "execution_count": 1,
   "metadata": {
    "colab": {
     "base_uri": "https://localhost:8080/",
     "height": 229
    },
    "colab_type": "code",
    "executionInfo": {
     "elapsed": 86002,
     "status": "ok",
     "timestamp": 1549875055805,
     "user": {
      "displayName": "Yanling Wu",
      "photoUrl": "https://lh6.googleusercontent.com/-u8By8ce8J3g/AAAAAAAAAAI/AAAAAAAAAAc/Kc_mVS4EgIg/s64/photo.jpg",
      "userId": "12488151021031492401"
     },
     "user_tz": 300
    },
    "id": "2oUQ2TpUvvxg",
    "outputId": "66f3959f-67c0-426c-8bce-9221e8f23eb9"
   },
   "outputs": [
    {
     "name": "stdout",
     "output_type": "stream",
     "text": [
      "E: Package 'python-software-properties' has no installation candidate\n",
      "Selecting previously unselected package google-drive-ocamlfuse.\n",
      "(Reading database ... 113597 files and directories currently installed.)\n",
      "Preparing to unpack .../google-drive-ocamlfuse_0.7.1-0ubuntu3~ubuntu18.04.1_amd64.deb ...\n",
      "Unpacking google-drive-ocamlfuse (0.7.1-0ubuntu3~ubuntu18.04.1) ...\n",
      "Setting up google-drive-ocamlfuse (0.7.1-0ubuntu3~ubuntu18.04.1) ...\n",
      "Processing triggers for man-db (2.8.3-2ubuntu0.1) ...\n",
      "Please, open the following URL in a web browser: https://accounts.google.com/o/oauth2/auth?client_id=32555940559.apps.googleusercontent.com&redirect_uri=urn%3Aietf%3Awg%3Aoauth%3A2.0%3Aoob&scope=https%3A%2F%2Fwww.googleapis.com%2Fauth%2Fdrive&response_type=code&access_type=offline&approval_prompt=force\n",
      "··········\n",
      "Please, open the following URL in a web browser: https://accounts.google.com/o/oauth2/auth?client_id=32555940559.apps.googleusercontent.com&redirect_uri=urn%3Aietf%3Awg%3Aoauth%3A2.0%3Aoob&scope=https%3A%2F%2Fwww.googleapis.com%2Fauth%2Fdrive&response_type=code&access_type=offline&approval_prompt=force\n",
      "Please enter the verification code: Access token retrieved correctly.\n"
     ]
    }
   ],
   "source": [
    "# 授权绑定Google Drive \n",
    "!apt-get install -y -qq software-properties-common python-software-properties module-init-tools \n",
    "!add-apt-repository -y ppa:alessandro-strada/ppa 2>&1 > /dev/null \n",
    "!apt-get update -qq 2>&1 > /dev/null \n",
    "!apt-get -y install -qq google-drive-ocamlfuse fuse \n",
    "from google.colab import auth \n",
    "auth.authenticate_user() \n",
    "from oauth2client.client import GoogleCredentials \n",
    "creds = GoogleCredentials.get_application_default() \n",
    "import getpass \n",
    "!google-drive-ocamlfuse -headless -id={creds.client_id} -secret={creds.client_secret} < /dev/null 2>&1 | grep URL \n",
    "vcode = getpass.getpass()\n",
    "!echo {vcode} | google-drive-ocamlfuse -headless -id={creds.client_id} -secret={creds.client_secret}\n"
   ]
  },
  {
   "cell_type": "code",
   "execution_count": 2,
   "metadata": {
    "colab": {
     "base_uri": "https://localhost:8080/",
     "height": 34
    },
    "colab_type": "code",
    "executionInfo": {
     "elapsed": 6343,
     "status": "ok",
     "timestamp": 1549875067321,
     "user": {
      "displayName": "Yanling Wu",
      "photoUrl": "https://lh6.googleusercontent.com/-u8By8ce8J3g/AAAAAAAAAAI/AAAAAAAAAAc/Kc_mVS4EgIg/s64/photo.jpg",
      "userId": "12488151021031492401"
     },
     "user_tz": 300
    },
    "id": "7H09mQ2zvy1I",
    "outputId": "42f02c83-378a-4ba2-823c-0b89d3d428c9"
   },
   "outputs": [
    {
     "name": "stdout",
     "output_type": "stream",
     "text": [
      "qd_LOS_32_berlin_20k.mat  qd_NLOS_32_berlin_20k.mat  v_LOS_32_20k.mat\n"
     ]
    }
   ],
   "source": [
    "# 指定Google Drive云端硬盘的根目录，名为drive\n",
    "!mkdir -p drive\n",
    "!google-drive-ocamlfuse drive\n",
    "\n",
    "# 指定当前的工作目录\n",
    "import os\n",
    "\n",
    "# 此处为google drive中的文件路径,drive为之前指定的工作根目录，要加上\n",
    "os.chdir(\"drive/Acoustic_Localization/keras/data/data_19_1\") \n",
    "\n",
    "\n",
    "# 查看文件目录，是否包含所需的文件\n",
    "!ls"
   ]
  },
  {
   "cell_type": "code",
   "execution_count": 1,
   "metadata": {
    "colab": {
     "base_uri": "https://localhost:8080/",
     "height": 34
    },
    "colab_type": "code",
    "executionInfo": {
     "elapsed": 1146,
     "status": "ok",
     "timestamp": 1549875074994,
     "user": {
      "displayName": "Yanling Wu",
      "photoUrl": "https://lh6.googleusercontent.com/-u8By8ce8J3g/AAAAAAAAAAI/AAAAAAAAAAc/Kc_mVS4EgIg/s64/photo.jpg",
      "userId": "12488151021031492401"
     },
     "user_tz": 300
    },
    "id": "IeEvKC_pv8yd",
    "outputId": "684e02d1-c4d6-42b4-d4af-8f6a744dbc07"
   },
   "outputs": [
    {
     "name": "stderr",
     "output_type": "stream",
     "text": [
      "Using TensorFlow backend.\n"
     ]
    }
   ],
   "source": [
    "import scipy.io as sio\n",
    "import numpy as np\n",
    "import tensorflow as tf\n",
    "import keras\n",
    "from keras import backend as K\n",
    "from keras.models import Sequential\n",
    "from keras.layers import Dense, Dropout, Conv2D, Flatten\n",
    "from keras.optimizers import RMSprop\n",
    "import matplotlib.pyplot as plt\n",
    "#import seaborn as sns; sns.set()\n",
    "from mpl_toolkits.mplot3d import Axes3D\n",
    "import pandas as pd\n",
    "from keras import regularizers"
   ]
  },
  {
   "cell_type": "code",
   "execution_count": 3,
   "metadata": {
    "colab": {
     "base_uri": "https://localhost:8080/",
     "height": 52
    },
    "colab_type": "code",
    "executionInfo": {
     "elapsed": 285,
     "status": "ok",
     "timestamp": 1549875430511,
     "user": {
      "displayName": "Yanling Wu",
      "photoUrl": "https://lh6.googleusercontent.com/-u8By8ce8J3g/AAAAAAAAAAI/AAAAAAAAAAc/Kc_mVS4EgIg/s64/photo.jpg",
      "userId": "12488151021031492401"
     },
     "user_tz": 300
    },
    "id": "zcTXAbkmv9FK",
    "outputId": "5e17a2cb-61f0-4d81-ee06-cf325618a915"
   },
   "outputs": [
    {
     "name": "stdout",
     "output_type": "stream",
     "text": [
      "d_data shape (32, 2000)\n",
      "loc shape (2, 2000)\n"
     ]
    }
   ],
   "source": [
    "#loading data\n",
    "DDataFile = './data/data_Emre/v_LOS_32_20k.mat'\n",
    "DData = sio.loadmat(DDataFile)\n",
    "#get the coeff data\n",
    "D_data = DData['h_coeff']\n",
    "location_data = DData['positions']\n",
    "#split the D_data and location_data and only need the first 2k\n",
    "N = 2000\n",
    "d_data = D_data[:,:N]\n",
    "loc_data = location_data[:,:N]\n",
    "print(\"d_data shape\", d_data.shape)\n",
    "print(\"loc shape\", loc_data.shape)\n"
   ]
  },
  {
   "cell_type": "code",
   "execution_count": 27,
   "metadata": {
    "colab": {},
    "colab_type": "code",
    "id": "W2cGEuunv9NV"
   },
   "outputs": [
    {
     "name": "stdout",
     "output_type": "stream",
     "text": [
      "[[1. 0. 0. ... 0. 0. 0.]\n",
      " [0. 1. 0. ... 0. 0. 0.]\n",
      " [0. 0. 1. ... 0. 0. 0.]\n",
      " ...\n",
      " [0. 0. 0. ... 1. 0. 0.]\n",
      " [0. 0. 0. ... 0. 1. 0.]\n",
      " [0. 0. 0. ... 0. 0. 1.]] (2000, 2000)\n",
      "(0.9998223523808092-0.018848439715408172j) (0.999822352380809-0.018848439715408144j) (2000, 2000)\n",
      "(0.9998223523808092+0.018848439715408172j) (0.999822352380809+0.018848439715408144j) (2000, 2000)\n"
     ]
    }
   ],
   "source": [
    "I = np.eye(N)\n",
    "D = np.fft.fft(I)\n",
    "DH = np.conjugate(D)\n",
    "print(I, I.shape)\n",
    "print(D[3][2],D[2][3], D.shape)\n",
    "print(DH[3][2],DH[2][3], DH.shape)"
   ]
  },
  {
   "cell_type": "code",
   "execution_count": 23,
   "metadata": {},
   "outputs": [
    {
     "data": {
      "text/plain": [
       "array([[ 2.00000000e+03+0.00000000e+00j, -7.10542736e-14+7.10542736e-15j,\n",
       "        -8.52651283e-14+1.06581410e-13j, ...,\n",
       "        -1.13686838e-13-6.39488462e-14j, -1.42108547e-14-4.26325641e-14j,\n",
       "        -7.10542736e-14+1.24344979e-14j],\n",
       "       [-7.10542736e-14-4.26325641e-14j,  2.00000000e+03-4.26325641e-14j,\n",
       "         1.98951966e-13+2.16715534e-13j, ...,\n",
       "        -1.84741111e-13+9.94759830e-14j, -1.13686838e-13+1.49213975e-13j,\n",
       "        -1.42108547e-13+7.10542736e-15j],\n",
       "       [-8.52651283e-14-1.63424829e-13j,  2.55795385e-13-1.88293825e-13j,\n",
       "         2.00000000e+03+4.26325641e-14j, ...,\n",
       "        -1.20792265e-13-2.84217094e-14j, -8.52651283e-14+7.10542736e-15j,\n",
       "         0.00000000e+00+9.23705556e-14j],\n",
       "       ...,\n",
       "       [-2.70006240e-13+5.68434189e-14j, -1.56319402e-13-4.26325641e-14j,\n",
       "         1.42108547e-14-7.10542736e-14j, ...,\n",
       "         2.00000000e+03-7.81597009e-14j,  0.00000000e+00-1.77635684e-14j,\n",
       "         1.70530257e-13+4.26325641e-14j],\n",
       "       [-7.10542736e-14+8.17124146e-14j, -7.10542736e-14-1.13686838e-13j,\n",
       "         1.42108547e-14-7.10542736e-15j, ...,\n",
       "         5.68434189e-14+2.84217094e-14j,  2.00000000e+03+4.44089210e-15j,\n",
       "        -1.56319402e-13-1.01252340e-13j],\n",
       "       [-9.94759830e-14+4.26325641e-14j, -2.13162821e-13+1.35003120e-13j,\n",
       "         2.84217094e-14-1.13686838e-13j, ...,\n",
       "        -4.68958206e-13+1.63424829e-13j, -1.56319402e-13+4.26325641e-14j,\n",
       "         2.00000000e+03+6.39488462e-14j]])"
      ]
     },
     "execution_count": 23,
     "metadata": {},
     "output_type": "execute_result"
    }
   ],
   "source": [
    "DH = np.conjugate(D)\n",
    "DH = np.transpose(DH)\n",
    "# D = np.matrix(D) \n",
    "# DH = D.getH()\n",
    "R = np.dot(DH, D)\n",
    "R"
   ]
  },
  {
   "cell_type": "code",
   "execution_count": null,
   "metadata": {},
   "outputs": [],
   "source": []
  }
 ],
 "metadata": {
  "colab": {
   "collapsed_sections": [],
   "name": "19-Extraction-feature.ipynb",
   "provenance": [],
   "version": "0.3.2"
  },
  "kernelspec": {
   "display_name": "tensorflow",
   "language": "python",
   "name": "tensorflow"
  },
  "language_info": {
   "codemirror_mode": {
    "name": "ipython",
    "version": 3
   },
   "file_extension": ".py",
   "mimetype": "text/x-python",
   "name": "python",
   "nbconvert_exporter": "python",
   "pygments_lexer": "ipython3",
   "version": "3.6.6"
  }
 },
 "nbformat": 4,
 "nbformat_minor": 1
}
