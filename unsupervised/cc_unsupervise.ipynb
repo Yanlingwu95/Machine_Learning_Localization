{
 "cells": [
  {
   "cell_type": "code",
   "execution_count": 191,
   "metadata": {},
   "outputs": [],
   "source": [
    "import scipy.io as sio\n",
    "import numpy as np, scipy.io\n",
    "import matplotlib.pyplot as plt\n",
    "from numpy.random import seed\n",
    "#fix seed for np\n",
    "seed(1)\n",
    "import tensorflow as tf\n",
    "#fix seed for tf\n",
    "tf.set_random_seed(2)\n",
    "from keras.layers import Input, Dense, Lambda, Layer, Dropout\n",
    "from keras.models import Model\n",
    "from keras import backend as K\n",
    "from keras import metrics\n",
    "import h5py\n",
    "from keras import regularizers, optimizers\n",
    "from joblib import Parallel,delayed"
   ]
  },
  {
   "cell_type": "code",
   "execution_count": 192,
   "metadata": {},
   "outputs": [],
   "source": [
    "def ismember(a, b):\n",
    "    bind = {}\n",
    "    for i, elt in enumerate(b):\n",
    "        if elt not in bind:\n",
    "            bind[elt] = i\n",
    "    return [bind.get(itm, None) for itm in a]  # None can be replaced by any other \"not in b\" value\n",
    "\n",
    "def trustw_parallel(encode_decode,index,location,kn):\n",
    "    N = np.size(index)  # total\n",
    "    print(\"N {}\".format(N))\n",
    "    d = np.zeros((N,N),dtype='float32' )\n",
    "    d_cov = np.zeros((N,N),dtype='float32' )\n",
    "\n",
    "    for qq in range(0, N):\n",
    "        for ww in range(0, N):\n",
    "            #d[qq, ww] = np.linalg.norm(location[qq, :] - location[ww, :], 2)\n",
    "            d[qq, ww] = np.sqrt(np.power(location[qq, 0] - location[ww, 0], 2) + np.power(location[qq, 1] - location[ww, 1], 2))\n",
    "            d_cov[qq, ww] = np.sqrt(np.power(encode_decode[qq, 0] - encode_decode[ww, 0], 2) + np.power( encode_decode[qq, 1] - encode_decode[ww, 1], 2))\n",
    "            #d_cov[qq, ww]= np.linalg.norm(encode_decode[qq, :] - encode_decode[ww, :], 2)\n",
    "    d[d == 0] = np.inf;\n",
    "    d_cov[d_cov == 0] = np.inf;\n",
    "\n",
    "    inds = np.argsort(d, kind='mergesort');\n",
    "    inds_cov = np.argsort(d_cov, kind='mergesort');\n",
    "\n",
    "    result=Parallel(n_jobs=4)(delayed(trustw3)(k=k,inds=inds,inds_cov=inds_cov,N=N) for k in kn)\n",
    "    result=np.asmatrix(result)\n",
    "    tw=np.asarray(result[:,0])\n",
    "    ct=np.asarray(result[:,1])\n",
    "    kn=np.asarray(result[:,2])\n",
    "    trustworthiness = 1 -  2 * tw / (N * kn * (2 * N - 3 * kn - 1))\n",
    "    continuity = 1 - 2 * ct / (N * kn * (2 * N - 3 * kn - 1))\n",
    "    return trustworthiness, continuity\n",
    "\n",
    "def trustw3(k, inds, inds_cov,  N):\n",
    "    tt=0\n",
    "    cc=0\n",
    "    for i in range(0, N):\n",
    "        Uki = np.intersect1d(inds_cov[i, 0:k], inds[i, k:])\n",
    "        rankUki = ismember(Uki, inds[i, :])\n",
    "        rankUki = rankUki + np.ones(np.size(rankUki))\n",
    "        twi = np.sum(np.asarray(rankUki) - k)\n",
    "        tt = tt + twi\n",
    "\n",
    "        Vki = np.intersect1d(inds_cov[i, k:], inds[i, 0:k])\n",
    "        rankVki = ismember(Vki, inds_cov[i, :])\n",
    "        rankVki = rankVki + np.ones(np.size(rankVki))\n",
    "        cti = np.sum(np.asarray(rankVki) - k)\n",
    "        cc=cc + cti\n",
    "    return np.transpose(tt), np.transpose(cc), np.transpose(k)"
   ]
  },
  {
   "cell_type": "code",
   "execution_count": 193,
   "metadata": {},
   "outputs": [],
   "source": [
    "#early stopping callback\n",
    "from keras.callbacks import EarlyStopping\n",
    "earlystop=EarlyStopping(monitor='val_loss', min_delta=1e-6, patience=7,verbose=1, mode='auto')\n",
    "callback_list=[earlystop]\n",
    "\n",
    "#loss function\n",
    "def vae_loss(x,x_hat):\n",
    "    xent_loss = metrics.mean_squared_error(x, x_hat)\n",
    "    return xent_loss #+ xent_loss2"
   ]
  },
  {
   "cell_type": "code",
   "execution_count": 194,
   "metadata": {},
   "outputs": [
    {
     "name": "stdout",
     "output_type": "stream",
     "text": [
      "(10000, 64) (10000, 2) (1, 10000)\n",
      "[[    1     2     3 ...  9998  9999 10000]]\n"
     ]
    }
   ],
   "source": [
    "##read data from .mat file\n",
    "# filename='./data/qd_LOS_32_3GPPUMi_15k_SC5.mat'\n",
    "# Data = h5py.File(filename, 'r')\n",
    "\n",
    "filename = './data/qd_LOS_32_3GPPUMi_15k_SC5.mat'\n",
    "Data = sio.loadmat(filename)\n",
    "Data_num = 10000\n",
    "# print(Data)\n",
    "#train_X = np.transpose(np.asmatrix(Data['D'].value.view()).astype('float32'))\n",
    "#input data\n",
    "train_X = (np.asmatrix(Data['h_coeff_real']).astype('float32')).T[:Data_num,:]\n",
    "#indices of the users\n",
    "index = (Data['index']).astype('int16')[:,:Data_num]\n",
    "#locations of users\n",
    "location = Data['positions'].astype('float64').T[:Data_num,:]\n",
    "\n",
    "print(train_X.shape, location.shape,index.shape)\n",
    "print(index)"
   ]
  },
  {
   "cell_type": "code",
   "execution_count": 195,
   "metadata": {
    "scrolled": true
   },
   "outputs": [
    {
     "name": "stdout",
     "output_type": "stream",
     "text": [
      "64\n",
      "x.shape(100, 64)\n",
      "z.shape(100, 2)\n",
      "(100, 500)\n",
      "(100, 64)\n"
     ]
    }
   ],
   "source": [
    "##parameters\n",
    "original_dim = np.size(train_X,1)\n",
    "print(original_dim)\n",
    "n_hidden_2 = 500  # 2nd layer num features\n",
    "n_hidden_3 = 100  # 3nd layer num features\n",
    "n_hidden_4 = 50  # 4th layer num features\n",
    "n_hidden_5 = 20\n",
    "\n",
    "#length of the embedding\n",
    "interim = 2\n",
    "#batch size\n",
    "batch_size = 100 ### we need to make sure its value less than the number of one specific value? I still do not figure out what is it\n",
    "#number of epochs\n",
    "epochs = 100\n",
    "\n",
    "\n",
    "#define activation functions for each layer\n",
    "act1 = 'tanh'\n",
    "act2 = 'tanh'\n",
    "act3 = 'softplus'\n",
    "act4 = 'tanh'\n",
    "\n",
    "##encoder\n",
    "x = Input(batch_shape=(batch_size, original_dim))\n",
    "print(\"x.shape{}\".format(x.shape))\n",
    "h1 = Dense(n_hidden_2, activation=act1 )(x)  # relu\n",
    "h2 = Dense(n_hidden_3, activation=act2 )(h1)  # relu\n",
    "h3 = Dense(n_hidden_4, activation=act3 )(h2)  # relu\n",
    "h = Dense(n_hidden_5, activation=act4 )(h3)  # relu\n",
    "z = Dense(interim,kernel_regularizer=regularizers.l2(1e-2))(h) #2d output w/ act reg 1e-4\n",
    "print(\"z.shape{}\".format(z.shape))\n",
    "#\n",
    "##decoder\n",
    "_h_decoded = Dense(n_hidden_5 ,activation='relu')(z)  # relu/sigmoid\n",
    "_h_decoded1 = Dense(n_hidden_4, activation=act4 )(_h_decoded)\n",
    "_h_decoded2 = Dense(n_hidden_3, activation=act3 )(_h_decoded1)\n",
    "_h_decoded3 = Dense(n_hidden_2, activation=act2 )(_h_decoded2)\n",
    "print(_h_decoded3.shape)\n",
    "x_hat = Dense(original_dim )(_h_decoded3)\n",
    "\n",
    "print(x_hat.shape)"
   ]
  },
  {
   "cell_type": "code",
   "execution_count": 196,
   "metadata": {},
   "outputs": [
    {
     "name": "stdout",
     "output_type": "stream",
     "text": [
      "x.shape(100, 64)\n"
     ]
    }
   ],
   "source": [
    "print(\"x.shape{}\".format(x.shape))"
   ]
  },
  {
   "cell_type": "code",
   "execution_count": 197,
   "metadata": {},
   "outputs": [
    {
     "name": "stdout",
     "output_type": "stream",
     "text": [
      "x.shape(100, 64)\n",
      "Train on 10000 samples, validate on 10000 samples\n",
      "Epoch 1/100\n",
      "10000/10000 [==============================] - 6s 559us/step - loss: 0.0439 - val_loss: 0.0220\n",
      "Epoch 2/100\n",
      "10000/10000 [==============================] - 2s 191us/step - loss: 0.0129 - val_loss: 0.0068\n",
      "Epoch 3/100\n",
      "10000/10000 [==============================] - 1s 142us/step - loss: 0.0042 - val_loss: 0.0019\n",
      "Epoch 4/100\n",
      "10000/10000 [==============================] - 2s 235us/step - loss: 9.6200e-04 - val_loss: 3.2475e-04\n",
      "Epoch 5/100\n",
      "10000/10000 [==============================] - 2s 198us/step - loss: 1.1305e-04 - val_loss: 1.0062e-05\n",
      "Epoch 6/100\n",
      "10000/10000 [==============================] - 2s 169us/step - loss: 5.4353e-06 - val_loss: 3.9872e-06\n",
      "Epoch 7/100\n",
      "10000/10000 [==============================] - 2s 196us/step - loss: 2.4798e-06 - val_loss: 2.0973e-06\n",
      "Epoch 8/100\n",
      "10000/10000 [==============================] - 2s 210us/step - loss: 1.7989e-06 - val_loss: 1.3245e-06\n",
      "Epoch 9/100\n",
      "10000/10000 [==============================] - 2s 235us/step - loss: 1.4685e-06 - val_loss: 1.2185e-06\n",
      "Epoch 10/100\n",
      "10000/10000 [==============================] - 2s 235us/step - loss: 1.2935e-06 - val_loss: 1.1819e-06\n",
      "Epoch 11/100\n",
      "10000/10000 [==============================] - 2s 236us/step - loss: 1.1075e-06 - val_loss: 9.4567e-07\n",
      "Epoch 12/100\n",
      "10000/10000 [==============================] - 2s 188us/step - loss: 9.9646e-07 - val_loss: 9.5243e-07\n",
      "Epoch 13/100\n",
      "10000/10000 [==============================] - 2s 183us/step - loss: 9.0159e-07 - val_loss: 9.7260e-07\n",
      "Epoch 14/100\n",
      "10000/10000 [==============================] - 2s 167us/step - loss: 8.1978e-07 - val_loss: 8.6718e-07\n",
      "Epoch 15/100\n",
      "10000/10000 [==============================] - 2s 210us/step - loss: 7.5393e-07 - val_loss: 6.7893e-07\n",
      "Epoch 16/100\n",
      "10000/10000 [==============================] - 2s 168us/step - loss: 6.7672e-07 - val_loss: 5.8996e-07\n",
      "Epoch 17/100\n",
      "10000/10000 [==============================] - 2s 203us/step - loss: 6.3282e-07 - val_loss: 5.8644e-07\n",
      "Epoch 18/100\n",
      "10000/10000 [==============================] - 2s 157us/step - loss: 5.8315e-07 - val_loss: 5.6114e-07\n",
      "Epoch 00018: early stopping\n"
     ]
    }
   ],
   "source": [
    "# end-to-end autoencoder\n",
    "vae = Model(x, x_hat)\n",
    "print(\"x.shape{}\".format(x.shape))\n",
    "encoder = Model(x, z)\n",
    "## set optimizer\n",
    "rms=optimizers.rmsprop(decay=1e-3,lr=0.001)\n",
    "vae.compile(optimizer='rmsprop', loss=vae_loss)\n",
    "\n",
    "#no test data\n",
    "x_train = train_X; #(64, 15000)\n",
    "x_test = train_X;\n",
    "x_train = x_train.reshape((len(x_train), np.prod(x_train.shape[1:]))) #(64, 15000)\n",
    "x_test = x_test.reshape((len(x_test), np.prod(x_test.shape[1:])))\n",
    "\n",
    "#train AE\n",
    "vae.fit(x_train, x_train,\n",
    "        shuffle=False,\n",
    "        epochs=epochs,\n",
    "        batch_size=batch_size,\n",
    "        validation_data=(x_test, x_test),\n",
    "        callbacks=callback_list,\n",
    "        verbose=1)\n",
    "\n",
    "#get embeddings\n",
    "x_test_encoded = encoder.predict(x_test, batch_size=batch_size)\n",
    "\n",
    "#save data to a .mat file\n",
    "#a = {}\n",
    "#a['encoded'] = x_test_encoded\n",
    "#scipy.io.savemat('tosaid', a)"
   ]
  },
  {
   "cell_type": "code",
   "execution_count": 198,
   "metadata": {},
   "outputs": [
    {
     "name": "stdout",
     "output_type": "stream",
     "text": [
      "(10000, 2)\n",
      "<class 'keras.engine.training.Model'>\n"
     ]
    }
   ],
   "source": [
    "print(x_test_encoded.shape)\n",
    "print(type(encoder))\n"
   ]
  },
  {
   "cell_type": "code",
   "execution_count": 199,
   "metadata": {},
   "outputs": [
    {
     "name": "stdout",
     "output_type": "stream",
     "text": [
      "(10,)\n",
      "N 10000\n"
     ]
    },
    {
     "data": {
      "text/plain": [
       "<matplotlib.legend.Legend at 0x24e1b4c7dd8>"
      ]
     },
     "execution_count": 199,
     "metadata": {},
     "output_type": "execute_result"
    },
    {
     "data": {
      "image/png": "[encoded data removed]",
      "text/plain": [
       "<Figure size 432x432 with 1 Axes>"
      ]
     },
     "metadata": {
      "needs_background": "light"
     },
     "output_type": "display_data"
    },
    {
     "data": {
      "image/png": "[encoded data removed]",
      "text/plain": [
       "<Figure size 432x288 with 1 Axes>"
      ]
     },
     "metadata": {
      "needs_background": "light"
     },
     "output_type": "display_data"
    }
   ],
   "source": [
    "#plot embeddings\n",
    "plt.figure(figsize=(6, 6))\n",
    "color1=(location[:,0]-max(location[:,0]))/-np.ptp(location[:,0])\n",
    "color2 = (location[:, 1] - max(location[:, 1])) / -np.ptp(location[:, 1])\n",
    "color3 = np.zeros(np.size(color2))\n",
    "colorMap = [color2 ,color1 , color3]\n",
    "\n",
    "print(kn.shape)\n",
    "\n",
    "# cm = plt.cm.get_cmap('RdYlBu_r') #Accent  RdYlBu_r RdYlBu  Blues_r  Greens  YlOrBr_r\n",
    "# sc = ax3.scatter(x,y,c = z, marker = 'o', label = 'test',alpha=0.9, cmap=cm)\n",
    "\n",
    "plt.scatter(x_test_encoded[:, 0], x_test_encoded[:, 1],c=np.transpose(colorMap))\n",
    "#plt.colorbar()\n",
    "plt.title(filename)\n",
    "\n",
    "#number of neighbors for trustworthiness and continuity\n",
    "kn = (np.floor(np.linspace(1, np.round(np.size(x_test_encoded, 0) * 0.05), 10))).astype(int)\n",
    "#run tw/ct function in parallel\n",
    "trustworthiness,continuity=trustw_parallel(x_test_encoded, index, location, kn)\n",
    "\n",
    "\n",
    "#plot tw/ct\n",
    "fig=plt.figure()\n",
    "ax=fig.add_subplot(1,1,1)\n",
    "plt.plot(kn,trustworthiness,label=\"Trustworthiness\",marker=\"o\")\n",
    "plt.plot(kn,continuity,label=\"Continuity\",marker=\"D\")\n",
    "##plot best results\n",
    "ax.set_yticks(np.linspace(0,1,11))\n",
    "plt.axis([1, np.max(kn), 0, 1])\n",
    "plt.grid()\n",
    "plt.title(filename)\n",
    "plt.legend()"
   ]
  },
  {
   "cell_type": "code",
   "execution_count": 200,
   "metadata": {},
   "outputs": [
    {
     "ename": "FileNotFoundError",
     "evalue": "[Errno 2] No such file or directory: 'model_./data/qd_LOS_32_3GPPUMi_15k_SC5.mat.json'",
     "output_type": "error",
     "traceback": [
      "\u001b[1;31m---------------------------------------------------------------------------\u001b[0m",
      "\u001b[1;31mFileNotFoundError\u001b[0m                         Traceback (most recent call last)",
      "\u001b[1;32m<ipython-input-200-2809f818b98b>\u001b[0m in \u001b[0;36m<module>\u001b[1;34m()\u001b[0m\n\u001b[0;32m      1\u001b[0m \u001b[1;31m#save whole model\u001b[0m\u001b[1;33m\u001b[0m\u001b[1;33m\u001b[0m\u001b[0m\n\u001b[0;32m      2\u001b[0m \u001b[0mmodel_json\u001b[0m \u001b[1;33m=\u001b[0m \u001b[0mvae\u001b[0m\u001b[1;33m.\u001b[0m\u001b[0mto_json\u001b[0m\u001b[1;33m(\u001b[0m\u001b[1;33m)\u001b[0m\u001b[1;33m\u001b[0m\u001b[0m\n\u001b[1;32m----> 3\u001b[1;33m \u001b[1;32mwith\u001b[0m \u001b[0mopen\u001b[0m\u001b[1;33m(\u001b[0m\u001b[1;34m\"model_\"\u001b[0m\u001b[1;33m+\u001b[0m\u001b[0mfilename\u001b[0m\u001b[1;33m+\u001b[0m\u001b[1;34m\".json\"\u001b[0m\u001b[1;33m,\u001b[0m \u001b[1;34m\"w\"\u001b[0m\u001b[1;33m)\u001b[0m \u001b[1;32mas\u001b[0m \u001b[0mjson_file\u001b[0m\u001b[1;33m:\u001b[0m\u001b[1;33m\u001b[0m\u001b[0m\n\u001b[0m\u001b[0;32m      4\u001b[0m     \u001b[0mjson_file\u001b[0m\u001b[1;33m.\u001b[0m\u001b[0mwrite\u001b[0m\u001b[1;33m(\u001b[0m\u001b[0mmodel_json\u001b[0m\u001b[1;33m)\u001b[0m\u001b[1;33m\u001b[0m\u001b[0m\n\u001b[0;32m      5\u001b[0m \u001b[1;31m# serialize weights to HDF5 and save\u001b[0m\u001b[1;33m\u001b[0m\u001b[1;33m\u001b[0m\u001b[0m\n",
      "\u001b[1;31mFileNotFoundError\u001b[0m: [Errno 2] No such file or directory: 'model_./data/qd_LOS_32_3GPPUMi_15k_SC5.mat.json'"
     ]
    }
   ],
   "source": [
    "#save whole model\n",
    "model_json = vae.to_json()\n",
    "with open(\"model_\"+filename+\".json\", \"w\") as json_file:\n",
    "    json_file.write(model_json)\n",
    "# serialize weights to HDF5 and save\n",
    "vae.save_weights(\"model_\"+filename+\".h5\")\n",
    "\n",
    "#save only encoder\n",
    "model_json = encoder.to_json()\n",
    "with open(\"encoder_\" +filename +\".json\", \"w\") as json_file:\n",
    "    json_file.write(model_json)\n",
    "# serialize weights of encoder to HDF5 and save\n",
    "encoder.save_weights(\"encoder_\"+filename+\".h5\")\n",
    "plt.show()"
   ]
  },
  {
   "cell_type": "code",
   "execution_count": null,
   "metadata": {},
   "outputs": [],
   "source": []
  }
 ],
 "metadata": {
  "kernelspec": {
   "display_name": "tensorflow",
   "language": "python",
   "name": "tensorflow"
  },
  "language_info": {
   "codemirror_mode": {
    "name": "ipython",
    "version": 3
   },
   "file_extension": ".py",
   "mimetype": "text/x-python",
   "name": "python",
   "nbconvert_exporter": "python",
   "pygments_lexer": "ipython3",
   "version": "3.6.6"
  }
 },
 "nbformat": 4,
 "nbformat_minor": 2
}
