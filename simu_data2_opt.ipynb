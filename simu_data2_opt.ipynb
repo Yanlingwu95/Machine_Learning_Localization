{
 "cells": [
  {
   "cell_type": "code",
   "execution_count": 1,
   "metadata": {},
   "outputs": [
    {
     "name": "stderr",
     "output_type": "stream",
     "text": [
      "Using TensorFlow backend.\n"
     ]
    }
   ],
   "source": [
    "import scipy.io as sio\n",
    "import numpy as np\n",
    "import tensorflow as tf\n",
    "import keras\n",
    "from keras import backend as K\n",
    "from keras.models import Sequential\n",
    "from keras.layers import Dense, Dropout, Conv2D, Flatten\n",
    "from keras.optimizers import RMSprop\n",
    "from keras import regularizers\n",
    "import matplotlib.pyplot as plt\n",
    "#import seaborn as sns; sns.set()\n",
    "from mpl_toolkits.mplot3d import Axes3D\n",
    "import pandas as pd\n",
    "from keras import regularizers\n",
    "from numpy import linalg as LA\n",
    "from sklearn.model_selection import train_test_split\n",
    " #Initial the weight of the network\n",
    "from numpy.random import seed\n",
    "seed(1)\n",
    "from tensorflow import set_random_seed\n",
    "set_random_seed(2)\n"
   ]
  },
  {
   "cell_type": "code",
   "execution_count": 8,
   "metadata": {},
   "outputs": [
    {
     "name": "stdout",
     "output_type": "stream",
     "text": [
      "h_coeff.shape  (16, 1600)\n",
      "h_coeff shape (16, 1600)\n",
      "loc shape (1600, 2)\n",
      "<class 'numpy.ndarray'>\n"
     ]
    }
   ],
   "source": [
    "#loading data\n",
    "# DDataFile = './3_20_data/qd_LOS_32_3GPPUMi_15k_SC5.mat'\n",
    "DDataFile = './data/Sim_data/impulses_noreflection.mat'\n",
    "filename = 'impulses_16'\n",
    "DData = sio.loadmat(DDataFile)\n",
    "#get the coeff data\n",
    "h_coeff_all = DData['h_coeff_real']\n",
    "location = DData['positions']\n",
    "index = DData['index']\n",
    "#split the D_data and location_data and only need the first 2k\n",
    "N = 1600\n",
    "M = 16\n",
    "h_coeff_real = np.array(h_coeff_all[:M,:N])\n",
    "# print(h_coeff_real[0])\n",
    "h_coeff_img = np.array(h_coeff_all[M:,:N])\n",
    "# print(h_coeff_img[0])\n",
    "h_coeff = h_coeff_real + 1j*h_coeff_img\n",
    "print(\"h_coeff.shape \",h_coeff.shape)\n",
    "\n",
    "loc = np.transpose(location[:,:N])\n",
    "print(\"h_coeff shape\", h_coeff.shape)\n",
    "print(\"loc shape\", loc.shape)\n",
    "print(type(h_coeff))\n"
   ]
  },
  {
   "cell_type": "code",
   "execution_count": 13,
   "metadata": {},
   "outputs": [
    {
     "name": "stdout",
     "output_type": "stream",
     "text": [
      "(1600, 256)\n",
      "(1280, 256)\n",
      "Train on 1024 samples, validate on 256 samples\n",
      "Epoch 1/100\n"
     ]
    },
    {
     "ename": "InvalidArgumentError",
     "evalue": "Incompatible shapes: [20,1600] vs. [20,2]\n\t [[Node: training_6/Adam/gradients/loss_6/dense_14_loss/huber_loss/Sub_grad/BroadcastGradientArgs = BroadcastGradientArgs[T=DT_INT32, _class=[\"loc:@training_6/Adam/gradients/loss_6/dense_14_loss/huber_loss/Sub_grad/Reshape\"], _device=\"/job:localhost/replica:0/task:0/device:CPU:0\"](training_6/Adam/gradients/loss_6/dense_14_loss/huber_loss/Sub_grad/Shape, training_6/Adam/gradients/loss_6/dense_14_loss/huber_loss/Sub_grad/Shape_1)]]",
     "output_type": "error",
     "traceback": [
      "\u001b[1;31m---------------------------------------------------------------------------\u001b[0m",
      "\u001b[1;31mInvalidArgumentError\u001b[0m                      Traceback (most recent call last)",
      "\u001b[1;32m<ipython-input-13-d120a0261829>\u001b[0m in \u001b[0;36m<module>\u001b[1;34m()\u001b[0m\n\u001b[0;32m     65\u001b[0m                     \u001b[0mverbose\u001b[0m \u001b[1;33m=\u001b[0m \u001b[1;36m1\u001b[0m\u001b[1;33m,\u001b[0m\u001b[1;33m\u001b[0m\u001b[0m\n\u001b[0;32m     66\u001b[0m                     \u001b[0mcallbacks\u001b[0m\u001b[1;33m=\u001b[0m\u001b[0mcallbacks\u001b[0m\u001b[1;33m,\u001b[0m\u001b[1;33m\u001b[0m\u001b[0m\n\u001b[1;32m---> 67\u001b[1;33m                     \u001b[0mvalidation_split\u001b[0m \u001b[1;33m=\u001b[0m \u001b[1;36m0.2\u001b[0m \u001b[1;31m#0.2,\u001b[0m\u001b[1;33m\u001b[0m\u001b[0m\n\u001b[0m\u001b[0;32m     68\u001b[0m \u001b[1;31m#                     validation_data=(impulses_test,location_test)\u001b[0m\u001b[1;33m\u001b[0m\u001b[1;33m\u001b[0m\u001b[0m\n\u001b[0;32m     69\u001b[0m                    )\n",
      "\u001b[1;32mD:\\Softwares\\Anaconda3\\envs\\tensorflow\\lib\\site-packages\\keras\\engine\\training.py\u001b[0m in \u001b[0;36mfit\u001b[1;34m(self, x, y, batch_size, epochs, verbose, callbacks, validation_split, validation_data, shuffle, class_weight, sample_weight, initial_epoch, steps_per_epoch, validation_steps, **kwargs)\u001b[0m\n\u001b[0;32m   1035\u001b[0m                                         \u001b[0minitial_epoch\u001b[0m\u001b[1;33m=\u001b[0m\u001b[0minitial_epoch\u001b[0m\u001b[1;33m,\u001b[0m\u001b[1;33m\u001b[0m\u001b[0m\n\u001b[0;32m   1036\u001b[0m                                         \u001b[0msteps_per_epoch\u001b[0m\u001b[1;33m=\u001b[0m\u001b[0msteps_per_epoch\u001b[0m\u001b[1;33m,\u001b[0m\u001b[1;33m\u001b[0m\u001b[0m\n\u001b[1;32m-> 1037\u001b[1;33m                                         validation_steps=validation_steps)\n\u001b[0m\u001b[0;32m   1038\u001b[0m \u001b[1;33m\u001b[0m\u001b[0m\n\u001b[0;32m   1039\u001b[0m     def evaluate(self, x=None, y=None,\n",
      "\u001b[1;32mD:\\Softwares\\Anaconda3\\envs\\tensorflow\\lib\\site-packages\\keras\\engine\\training_arrays.py\u001b[0m in \u001b[0;36mfit_loop\u001b[1;34m(model, f, ins, out_labels, batch_size, epochs, verbose, callbacks, val_f, val_ins, shuffle, callback_metrics, initial_epoch, steps_per_epoch, validation_steps)\u001b[0m\n\u001b[0;32m    197\u001b[0m                     \u001b[0mins_batch\u001b[0m\u001b[1;33m[\u001b[0m\u001b[0mi\u001b[0m\u001b[1;33m]\u001b[0m \u001b[1;33m=\u001b[0m \u001b[0mins_batch\u001b[0m\u001b[1;33m[\u001b[0m\u001b[0mi\u001b[0m\u001b[1;33m]\u001b[0m\u001b[1;33m.\u001b[0m\u001b[0mtoarray\u001b[0m\u001b[1;33m(\u001b[0m\u001b[1;33m)\u001b[0m\u001b[1;33m\u001b[0m\u001b[0m\n\u001b[0;32m    198\u001b[0m \u001b[1;33m\u001b[0m\u001b[0m\n\u001b[1;32m--> 199\u001b[1;33m                 \u001b[0mouts\u001b[0m \u001b[1;33m=\u001b[0m \u001b[0mf\u001b[0m\u001b[1;33m(\u001b[0m\u001b[0mins_batch\u001b[0m\u001b[1;33m)\u001b[0m\u001b[1;33m\u001b[0m\u001b[0m\n\u001b[0m\u001b[0;32m    200\u001b[0m                 \u001b[0mouts\u001b[0m \u001b[1;33m=\u001b[0m \u001b[0mto_list\u001b[0m\u001b[1;33m(\u001b[0m\u001b[0mouts\u001b[0m\u001b[1;33m)\u001b[0m\u001b[1;33m\u001b[0m\u001b[0m\n\u001b[0;32m    201\u001b[0m                 \u001b[1;32mfor\u001b[0m \u001b[0ml\u001b[0m\u001b[1;33m,\u001b[0m \u001b[0mo\u001b[0m \u001b[1;32min\u001b[0m \u001b[0mzip\u001b[0m\u001b[1;33m(\u001b[0m\u001b[0mout_labels\u001b[0m\u001b[1;33m,\u001b[0m \u001b[0mouts\u001b[0m\u001b[1;33m)\u001b[0m\u001b[1;33m:\u001b[0m\u001b[1;33m\u001b[0m\u001b[0m\n",
      "\u001b[1;32mD:\\Softwares\\Anaconda3\\envs\\tensorflow\\lib\\site-packages\\keras\\backend\\tensorflow_backend.py\u001b[0m in \u001b[0;36m__call__\u001b[1;34m(self, inputs)\u001b[0m\n\u001b[0;32m   2664\u001b[0m                 \u001b[1;32mreturn\u001b[0m \u001b[0mself\u001b[0m\u001b[1;33m.\u001b[0m\u001b[0m_legacy_call\u001b[0m\u001b[1;33m(\u001b[0m\u001b[0minputs\u001b[0m\u001b[1;33m)\u001b[0m\u001b[1;33m\u001b[0m\u001b[0m\n\u001b[0;32m   2665\u001b[0m \u001b[1;33m\u001b[0m\u001b[0m\n\u001b[1;32m-> 2666\u001b[1;33m             \u001b[1;32mreturn\u001b[0m \u001b[0mself\u001b[0m\u001b[1;33m.\u001b[0m\u001b[0m_call\u001b[0m\u001b[1;33m(\u001b[0m\u001b[0minputs\u001b[0m\u001b[1;33m)\u001b[0m\u001b[1;33m\u001b[0m\u001b[0m\n\u001b[0m\u001b[0;32m   2667\u001b[0m         \u001b[1;32melse\u001b[0m\u001b[1;33m:\u001b[0m\u001b[1;33m\u001b[0m\u001b[0m\n\u001b[0;32m   2668\u001b[0m             \u001b[1;32mif\u001b[0m \u001b[0mpy_any\u001b[0m\u001b[1;33m(\u001b[0m\u001b[0mis_tensor\u001b[0m\u001b[1;33m(\u001b[0m\u001b[0mx\u001b[0m\u001b[1;33m)\u001b[0m \u001b[1;32mfor\u001b[0m \u001b[0mx\u001b[0m \u001b[1;32min\u001b[0m \u001b[0minputs\u001b[0m\u001b[1;33m)\u001b[0m\u001b[1;33m:\u001b[0m\u001b[1;33m\u001b[0m\u001b[0m\n",
      "\u001b[1;32mD:\\Softwares\\Anaconda3\\envs\\tensorflow\\lib\\site-packages\\keras\\backend\\tensorflow_backend.py\u001b[0m in \u001b[0;36m_call\u001b[1;34m(self, inputs)\u001b[0m\n\u001b[0;32m   2634\u001b[0m                                 \u001b[0msymbol_vals\u001b[0m\u001b[1;33m,\u001b[0m\u001b[1;33m\u001b[0m\u001b[0m\n\u001b[0;32m   2635\u001b[0m                                 session)\n\u001b[1;32m-> 2636\u001b[1;33m         \u001b[0mfetched\u001b[0m \u001b[1;33m=\u001b[0m \u001b[0mself\u001b[0m\u001b[1;33m.\u001b[0m\u001b[0m_callable_fn\u001b[0m\u001b[1;33m(\u001b[0m\u001b[1;33m*\u001b[0m\u001b[0marray_vals\u001b[0m\u001b[1;33m)\u001b[0m\u001b[1;33m\u001b[0m\u001b[0m\n\u001b[0m\u001b[0;32m   2637\u001b[0m         \u001b[1;32mreturn\u001b[0m \u001b[0mfetched\u001b[0m\u001b[1;33m[\u001b[0m\u001b[1;33m:\u001b[0m\u001b[0mlen\u001b[0m\u001b[1;33m(\u001b[0m\u001b[0mself\u001b[0m\u001b[1;33m.\u001b[0m\u001b[0moutputs\u001b[0m\u001b[1;33m)\u001b[0m\u001b[1;33m]\u001b[0m\u001b[1;33m\u001b[0m\u001b[0m\n\u001b[0;32m   2638\u001b[0m \u001b[1;33m\u001b[0m\u001b[0m\n",
      "\u001b[1;32mD:\\Softwares\\Anaconda3\\envs\\tensorflow\\lib\\site-packages\\tensorflow\\python\\client\\session.py\u001b[0m in \u001b[0;36m__call__\u001b[1;34m(self, *args, **kwargs)\u001b[0m\n\u001b[0;32m   1380\u001b[0m           ret = tf_session.TF_SessionRunCallable(\n\u001b[0;32m   1381\u001b[0m               \u001b[0mself\u001b[0m\u001b[1;33m.\u001b[0m\u001b[0m_session\u001b[0m\u001b[1;33m.\u001b[0m\u001b[0m_session\u001b[0m\u001b[1;33m,\u001b[0m \u001b[0mself\u001b[0m\u001b[1;33m.\u001b[0m\u001b[0m_handle\u001b[0m\u001b[1;33m,\u001b[0m \u001b[0margs\u001b[0m\u001b[1;33m,\u001b[0m \u001b[0mstatus\u001b[0m\u001b[1;33m,\u001b[0m\u001b[1;33m\u001b[0m\u001b[0m\n\u001b[1;32m-> 1382\u001b[1;33m               run_metadata_ptr)\n\u001b[0m\u001b[0;32m   1383\u001b[0m         \u001b[1;32mif\u001b[0m \u001b[0mrun_metadata\u001b[0m\u001b[1;33m:\u001b[0m\u001b[1;33m\u001b[0m\u001b[0m\n\u001b[0;32m   1384\u001b[0m           \u001b[0mproto_data\u001b[0m \u001b[1;33m=\u001b[0m \u001b[0mtf_session\u001b[0m\u001b[1;33m.\u001b[0m\u001b[0mTF_GetBuffer\u001b[0m\u001b[1;33m(\u001b[0m\u001b[0mrun_metadata_ptr\u001b[0m\u001b[1;33m)\u001b[0m\u001b[1;33m\u001b[0m\u001b[0m\n",
      "\u001b[1;32mD:\\Softwares\\Anaconda3\\envs\\tensorflow\\lib\\site-packages\\tensorflow\\python\\framework\\errors_impl.py\u001b[0m in \u001b[0;36m__exit__\u001b[1;34m(self, type_arg, value_arg, traceback_arg)\u001b[0m\n\u001b[0;32m    517\u001b[0m             \u001b[1;32mNone\u001b[0m\u001b[1;33m,\u001b[0m \u001b[1;32mNone\u001b[0m\u001b[1;33m,\u001b[0m\u001b[1;33m\u001b[0m\u001b[0m\n\u001b[0;32m    518\u001b[0m             \u001b[0mcompat\u001b[0m\u001b[1;33m.\u001b[0m\u001b[0mas_text\u001b[0m\u001b[1;33m(\u001b[0m\u001b[0mc_api\u001b[0m\u001b[1;33m.\u001b[0m\u001b[0mTF_Message\u001b[0m\u001b[1;33m(\u001b[0m\u001b[0mself\u001b[0m\u001b[1;33m.\u001b[0m\u001b[0mstatus\u001b[0m\u001b[1;33m.\u001b[0m\u001b[0mstatus\u001b[0m\u001b[1;33m)\u001b[0m\u001b[1;33m)\u001b[0m\u001b[1;33m,\u001b[0m\u001b[1;33m\u001b[0m\u001b[0m\n\u001b[1;32m--> 519\u001b[1;33m             c_api.TF_GetCode(self.status.status))\n\u001b[0m\u001b[0;32m    520\u001b[0m     \u001b[1;31m# Delete the underlying status object from memory otherwise it stays alive\u001b[0m\u001b[1;33m\u001b[0m\u001b[1;33m\u001b[0m\u001b[0m\n\u001b[0;32m    521\u001b[0m     \u001b[1;31m# as there is a reference to status from this from the traceback due to\u001b[0m\u001b[1;33m\u001b[0m\u001b[1;33m\u001b[0m\u001b[0m\n",
      "\u001b[1;31mInvalidArgumentError\u001b[0m: Incompatible shapes: [20,1600] vs. [20,2]\n\t [[Node: training_6/Adam/gradients/loss_6/dense_14_loss/huber_loss/Sub_grad/BroadcastGradientArgs = BroadcastGradientArgs[T=DT_INT32, _class=[\"loc:@training_6/Adam/gradients/loss_6/dense_14_loss/huber_loss/Sub_grad/Reshape\"], _device=\"/job:localhost/replica:0/task:0/device:CPU:0\"](training_6/Adam/gradients/loss_6/dense_14_loss/huber_loss/Sub_grad/Shape, training_6/Adam/gradients/loss_6/dense_14_loss/huber_loss/Sub_grad/Shape_1)]]"
     ]
    }
   ],
   "source": [
    "# a = np.array(range(0,20,2)) / 10. # a = 0.5 is the best\n",
    "a = 0.5\n",
    "parameter = [10,20,30,50,100,200,500]\n",
    "err_min = np.zeros(len(parameter))\n",
    "err_max = np.zeros(len(parameter))\n",
    "err_avg = np.zeros(len(parameter))\n",
    "err_var = np.zeros(len(parameter))\n",
    "loss = np.zeros(len(parameter))\n",
    "\n",
    "for i in range(len(parameter)):\n",
    "    seed(1)\n",
    "    set_random_seed(2)\n",
    "    D = np.asmatrix(np.fft.fft(np.eye(M)/np.sqrt(M)))\n",
    "    DH = D.H\n",
    "    F = np.zeros([N, M * M], dtype = \"complex_\")\n",
    "    for j in range(N):\n",
    "        h = np.asmatrix(h_coeff[:, j:j+1])\n",
    "        v = (M **(1/(2*a)) / (LA.norm(h, 2) **(1+(1/(2*a))))) * h # a = 0.5 is the best\n",
    "        KK = v * v.H\n",
    "        B = D * KK * DH\n",
    "        F[j] =B.flatten().A\n",
    "    F = np.asarray(F)\n",
    "    #Do normalization here for features !!! \n",
    "    # Using std to normalize\n",
    "    # F = F - np.mean(F, axis = 0)\n",
    "    F = F / np.std(F, axis = 0)\n",
    "    \n",
    "    print(F.shape)\n",
    "    #***************************************************************************************************\n",
    "    # ft = np.real(F)\n",
    "    # ft = np.imag(F)\n",
    "    ft = np.absolute(F) # get the absolute of the F data rel and imaginary part seperately \n",
    "    # Split the data\n",
    "    impulses_train, impulses_test, location_train, location_test = train_test_split(ft, loc, test_size=0.2, random_state=42)\n",
    "    print(impulses_train.shape)\n",
    "    #***************************************************************************************************\n",
    "    #Build the model\n",
    "    model = keras.Sequential()\n",
    "\n",
    "    model.add(keras.layers.normalization.BatchNormalization())\n",
    "    model.add(Dense(11, activation = 'tanh')) #tanh, relu\n",
    "\n",
    "    # model.add(Dense(8, activation = 'tanh')) #tanh, relu\n",
    "\n",
    "    model.add(Dense(d, activation = 'linear'))  # None is different from 'linear'      ### the output layer\n",
    "    #***************************************************************************************************\n",
    "\n",
    "    #Compilation\n",
    "    def huber_loss(y_true, y_pred):\n",
    "        return tf.losses.huber_loss(y_true,y_pred)\n",
    "\n",
    "    loss_func = huber_loss#\"mean_squared_error\"   #   categorical_crossentropy(bad)   mean_squared_error  huber_loss\n",
    "    opt_func = keras.optimizers.Adam(lr=0.001) #'Adam'  lr=0.001  #  RMSprop() sgd()  Adadelta()   Adam  nadam\n",
    "    callbacks = [keras.callbacks.EarlyStopping(monitor='val_loss', min_delta=0, patience=7, verbose=0, mode='auto', baseline=None)]\n",
    "\n",
    "    model.compile(loss = loss_func, \n",
    "                  optimizer = opt_func\n",
    "                 )\n",
    "    #***************************************************************************************************\n",
    "\n",
    "    #Train the model, iterating\n",
    "    history = model.fit(impulses_train, location_train,\n",
    "                    batch_size = 20, # 50 -> 52138; 20->52088\n",
    "                    epochs = 100,\n",
    "                    verbose = 1,\n",
    "                    callbacks=callbacks,\n",
    "                    validation_split = 0.2 #0.2,\n",
    "#                     validation_data=(impulses_test,location_test)\n",
    "                   )\n",
    "    #***************************************************************************************************\n",
    "    loc_prediction = model.predict(impulses_test)\n",
    "    loss[i] = model.evaluate(impulses_test, location_test,verbose=0)\n",
    "    #***************************************************************************************************\n",
    "    err = loc_prediction - location_test\n",
    "    x = err[:,:1]\n",
    "    y = err[:,1:]\n",
    "    err_dis = np.sqrt(np.square(x)+np.square(y))\n",
    "    err_min[i] = np.min(err_dis)\n",
    "    err_max[i] = np.max(err_dis)\n",
    "    err_avg[i] = np.mean(err_dis)\n",
    "    err_var[i] = np.var(err_dis)\n",
    "    print(\"mean error\", err_avg[i])\n",
    "    #***************************************************************************************************\n",
    "# print(\"mean error distance is \", err_avg)\n",
    "# print(\"max error distance is \", err_max)\n",
    "# print(\"min error distance is \", err_min)\n",
    "# print(\"The variance of the distance is \", err_var)\n",
    "\n",
    "plt.plot(err_avg, label=\"err_avg\")\n",
    "plt.plot(err_max, label=\"err_max\")\n",
    "plt.plot(err_min, label=\"err_min\")\n",
    "plt.plot(err_var, label=\"err_var\")\n",
    "plt.legend()"
   ]
  },
  {
   "cell_type": "code",
   "execution_count": 67,
   "metadata": {
    "scrolled": true
   },
   "outputs": [
    {
     "data": {
      "image/png": "[encoded data removed]",
      "text/plain": [
       "<Figure size 432x288 with 1 Axes>"
      ]
     },
     "metadata": {
      "needs_background": "light"
     },
     "output_type": "display_data"
    }
   ],
   "source": [
    "plt.plot(parameter,err_avg, label=\"err_avg\")\n",
    "# plt.plot(err_max, label=\"err_max\")\n",
    "# plt.plot(err_min, label=\"err_min\")\n",
    "# plt.plot(err_var, label=\"err_var\")\n",
    "plt.ylabel('avg_err')\n",
    "plt.xlabel('batch size')\n",
    "plt.title(\"batch size & error\")\n",
    "plt.legend()\n",
    "plt.savefig(\"a_change.png\")"
   ]
  },
  {
   "cell_type": "code",
   "execution_count": null,
   "metadata": {},
   "outputs": [],
   "source": []
  }
 ],
 "metadata": {
  "kernelspec": {
   "display_name": "tensorflow",
   "language": "python",
   "name": "tensorflow"
  },
  "language_info": {
   "codemirror_mode": {
    "name": "ipython",
    "version": 3
   },
   "file_extension": ".py",
   "mimetype": "text/x-python",
   "name": "python",
   "nbconvert_exporter": "python",
   "pygments_lexer": "ipython3",
   "version": "3.6.6"
  }
 },
 "nbformat": 4,
 "nbformat_minor": 2
}
