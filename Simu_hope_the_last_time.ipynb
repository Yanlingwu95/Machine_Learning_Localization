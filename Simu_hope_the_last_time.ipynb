{
 "cells": [
  {
   "cell_type": "code",
   "execution_count": 7,
   "metadata": {},
   "outputs": [],
   "source": [
    "import scipy.io as sio\n",
    "import numpy as np\n",
    "import tensorflow as tf\n",
    "import keras\n",
    "from keras import backend as K\n",
    "from keras.models import Sequential\n",
    "from keras.layers import Dense, Dropout, Conv2D, Flatten\n",
    "from keras.optimizers import RMSprop\n",
    "from keras import regularizers\n",
    "import matplotlib.pyplot as plt\n",
    "#import seaborn as sns; sns.set()\n",
    "from mpl_toolkits.mplot3d import Axes3D\n",
    "import pandas as pd\n",
    "from keras import regularizers\n",
    "from numpy import linalg as LA\n",
    "from joblib import Parallel,delayed\n",
    "\n",
    "#Initial the weight of the network\n",
    "from numpy.random import seed\n",
    "seed(1)\n",
    "from tensorflow import set_random_seed\n",
    "from sklearn.model_selection import train_test_split\n",
    "set_random_seed(2)"
   ]
  },
  {
   "cell_type": "code",
   "execution_count": 8,
   "metadata": {
    "scrolled": true
   },
   "outputs": [
    {
     "name": "stdout",
     "output_type": "stream",
     "text": [
      "h_coeff.shape  (16, 1600)\n",
      "h_coeff shape (16, 1600)\n",
      "loc shape (1600, 2)\n",
      "<class 'numpy.ndarray'>\n"
     ]
    }
   ],
   "source": [
    "#loading data\n",
    "# DDataFile = './3_20_data/qd_LOS_32_3GPPUMi_15k_SC5.mat'\n",
    "DDataFile = './data/Sim_data/impulses_noreflection.mat'\n",
    "filename = 'impulses_16'\n",
    "DData = sio.loadmat(DDataFile)\n",
    "#get the coeff data\n",
    "h_coeff_all = DData['h_coeff_real']\n",
    "location = DData['positions']\n",
    "index = DData['index']\n",
    "#split the D_data and location_data and only need the first 2k\n",
    "N = 1600\n",
    "M = 16\n",
    "h_coeff_real = np.array(h_coeff_all[:M,:N])\n",
    "# print(h_coeff_real[0])\n",
    "h_coeff_img = np.array(h_coeff_all[M:,:N])\n",
    "# print(h_coeff_img[0])\n",
    "h_coeff = h_coeff_real + 1j*h_coeff_img\n",
    "print(\"h_coeff.shape \",h_coeff.shape)\n",
    "\n",
    "loc = np.transpose(location[:,:N])\n",
    "print(\"h_coeff shape\", h_coeff.shape)\n",
    "print(\"loc shape\", loc.shape)\n",
    "print(type(h_coeff))\n"
   ]
  },
  {
   "cell_type": "code",
   "execution_count": 14,
   "metadata": {},
   "outputs": [
    {
     "data": {
      "text/plain": [
       "array([0.2, 0.3, 0.4, 0.5, 0.6, 0.7, 0.8, 0.9, 1. , 1.1, 1.2, 1.3, 1.4])"
      ]
     },
     "execution_count": 14,
     "metadata": {},
     "output_type": "execute_result"
    }
   ],
   "source": [
    "np.array(range(2,15,1)) / 10."
   ]
  },
  {
   "cell_type": "code",
   "execution_count": 15,
   "metadata": {},
   "outputs": [
    {
     "name": "stdout",
     "output_type": "stream",
     "text": [
      "mean error 7.383952136008237\n",
      "mean error 7.37406899243291\n",
      "mean error 7.3822332294831385\n",
      "mean error 7.374885305230793\n",
      "mean error 7.372913076975932\n",
      "mean error 7.373894200193996\n",
      "mean error 7.379837737931425\n",
      "mean error 7.377655266738119\n",
      "mean error 7.37989365177157\n",
      "mean error 7.373244047128668\n",
      "mean error 7.3745550036555985\n",
      "mean error 7.370955102419868\n",
      "mean error 7.379114506925061\n"
     ]
    },
    {
     "data": {
      "text/plain": [
       "<matplotlib.legend.Legend at 0x1dab1c865c0>"
      ]
     },
     "execution_count": 15,
     "metadata": {},
     "output_type": "execute_result"
    },
    {
     "data": {
      "image/png": "[encoded data removed]",
      "text/plain": [
       "<Figure size 432x288 with 1 Axes>"
      ]
     },
     "metadata": {
      "needs_background": "light"
     },
     "output_type": "display_data"
    }
   ],
   "source": [
    "a = 0.5\n",
    "parameter = np.array(range(2,15,1)) / 10.\n",
    "# parameter = [10,20,30,50,100,200,500]\n",
    "err_min = np.zeros(len(parameter))\n",
    "err_max = np.zeros(len(parameter))\n",
    "err_avg = np.zeros(len(parameter))\n",
    "err_var = np.zeros(len(parameter))\n",
    "loss = np.zeros(len(parameter))\n",
    "\n",
    "#********************************************************\n",
    "for i in range(len(parameter)):\n",
    "    seed(1)\n",
    "    set_random_seed(2)\n",
    "    D = np.asmatrix(np.fft.fft(np.eye(M)/np.sqrt(M)))\n",
    "    DH = D.H\n",
    "    F = np.zeros([N, M * M], dtype = \"complex_\")\n",
    "    for j in range(N):\n",
    "        h = np.asmatrix(h_coeff[:, j:j+1])\n",
    "        a = parameter[i]\n",
    "        v = (M **(1/(2*a)) / (LA.norm(h, 2) **(1+(1/(2*a))))) * h\n",
    "        KK = v * v.H\n",
    "        B = D * KK * DH\n",
    "        F[i] =B.flatten().A\n",
    "    F = np.asarray(F)\n",
    "    # print(F.shape)\n",
    "    # print(type(F))\n",
    "    #****************************************************8\n",
    "\n",
    "    #Do normalization here for features !!! \n",
    "    # Using std to normalize\n",
    "    # F = F - np.mean(F, axis = 0)\n",
    "    F = F / np.std(F, axis = 0)\n",
    "    # print(F[0])\n",
    "\n",
    "    #*****************************************************************************\n",
    "    # ft = np.real(F)\n",
    "    # ft = np.imag(F)\n",
    "    ft = np.absolute(F) # get the absolute of the F data rel and imaginary part seperately \n",
    "\n",
    "    # print(\"ft shape\", ft.shape, type(ft))\n",
    "\n",
    "    # print(F.shape,loc.shape)\n",
    "    total, l = F.shape\n",
    "    total, d = loc.shape\n",
    "    impulses_train, impulses_test, location_train, location_test = train_test_split(ft, loc, test_size=0.2, random_state=42)\n",
    "\n",
    "    # print('impulses_train shape:', impulses_train.shape)\n",
    "    # print('impulses_test shape:', impulses_test.shape)\n",
    "    # print('location_train shape:', location_train.shape)\n",
    "    # # print(impulses_train)\n",
    "    # print('location_test shape:', location_test.shape)\n",
    "    # print(location_test)\n",
    "\n",
    "    ##************************************************************************************\n",
    "\n",
    "    #Build the model\n",
    "    model = keras.Sequential()\n",
    "\n",
    "    model.add(keras.layers.normalization.BatchNormalization())\n",
    "    model.add(Dense(11, activation = 'tanh')) #tanh, relu\n",
    "\n",
    "    # model.add(Dense(8, activation = 'tanh')) #tanh, relu\n",
    "\n",
    "    model.add(Dense(d, activation = 'linear'))  # None is different from 'linear'      ### the output layer\n",
    "\n",
    "\n",
    "    #****************************************************************************************\n",
    "\n",
    "    #Compilation\n",
    "    def huber_loss(y_true, y_pred):\n",
    "        return tf.losses.huber_loss(y_true,y_pred)\n",
    "\n",
    "    loss_func = \"mean_squared_error\"   #   categorical_crossentropy(bad)   mean_squared_error  huber_loss\n",
    "    opt_func = keras.optimizers.Adam(lr=0.001) #'Adam'  lr=0.001  #  RMSprop() sgd()  Adadelta()   Adam  nadam\n",
    "    callbacks = [keras.callbacks.EarlyStopping(monitor='val_loss', min_delta=0, patience=7, verbose=0, mode='auto', baseline=None)]\n",
    "\n",
    "    model.compile(loss = loss_func, \n",
    "                  optimizer = opt_func\n",
    "                 )\n",
    "\n",
    "    # print(impulses_train.shape, location_train.shape)\n",
    "\n",
    "    #*********************************************************************************\n",
    "\n",
    "    #Train the model, iterating\n",
    "    # print(impulses_train.shape, location_train.shape)\n",
    "    # print(impulses_test.shape, location_test.shape)\n",
    "\n",
    "    history = model.fit(impulses_train, location_train,\n",
    "                        batch_size = 30, # 50 -> 52138; 20->52088\n",
    "                        epochs = 100,\n",
    "                        verbose = 0,\n",
    "                        callbacks=callbacks,\n",
    "                        validation_split = 0.2 #0.2,\n",
    "    #                     validation_data=(impulses_test,location_test)\n",
    "                       )\n",
    "\n",
    "    ##***************************************************************************\n",
    "\n",
    "    #***************************************************************************************************\n",
    "    loc_prediction = model.predict(impulses_test)\n",
    "    loss[i] = model.evaluate(impulses_test, location_test,verbose=0)\n",
    "    #***************************************************************************************************\n",
    "    err = loc_prediction - location_test\n",
    "    x = err[:,:1]\n",
    "    y = err[:,1:]\n",
    "    err_dis = np.sqrt(np.square(x)+np.square(y))\n",
    "    err_min[i] = np.min(err_dis)\n",
    "    err_max[i] = np.max(err_dis)\n",
    "    err_avg[i] = np.mean(err_dis)\n",
    "    err_var[i] = np.var(err_dis)\n",
    "    print(\"mean error\", err_avg[i])\n",
    "#***************************************************************************************************\n",
    "# print(\"mean error distance is \", err_avg)\n",
    "# print(\"max error distance is \", err_max)\n",
    "# print(\"min error distance is \", err_min)\n",
    "# print(\"The variance of the distance is \", err_var)\n",
    "\n",
    "plt.plot(err_avg, label=\"err_avg\")\n",
    "plt.plot(err_max, label=\"err_max\")\n",
    "plt.plot(err_min, label=\"err_min\")\n",
    "plt.plot(err_var, label=\"err_var\")\n",
    "plt.legend()\n",
    "\n"
   ]
  },
  {
   "cell_type": "code",
   "execution_count": 16,
   "metadata": {},
   "outputs": [
    {
     "data": {
      "image/png": "[encoded data removed]",
      "text/plain": [
       "<Figure size 432x288 with 1 Axes>"
      ]
     },
     "metadata": {
      "needs_background": "light"
     },
     "output_type": "display_data"
    }
   ],
   "source": [
    "plt.plot(parameter,err_avg, label=\"err_avg\")\n",
    "# plt.plot(err_max, label=\"err_max\")\n",
    "# plt.plot(err_min, label=\"err_min\")\n",
    "# plt.plot(err_var, label=\"err_var\")\n",
    "plt.ylabel('avg_err')\n",
    "plt.xlabel('batch size')\n",
    "plt.title(\"batch size & error\")\n",
    "plt.legend()\n",
    "plt.savefig(\"a_change.png\")"
   ]
  },
  {
   "cell_type": "code",
   "execution_count": null,
   "metadata": {},
   "outputs": [],
   "source": []
  }
 ],
 "metadata": {
  "kernelspec": {
   "display_name": "tensorflow",
   "language": "python",
   "name": "tensorflow"
  },
  "language_info": {
   "codemirror_mode": {
    "name": "ipython",
    "version": 3
   },
   "file_extension": ".py",
   "mimetype": "text/x-python",
   "name": "python",
   "nbconvert_exporter": "python",
   "pygments_lexer": "ipython3",
   "version": "3.6.6"
  }
 },
 "nbformat": 4,
 "nbformat_minor": 2
}
